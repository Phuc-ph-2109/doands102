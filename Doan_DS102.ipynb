{
  "nbformat": 4,
  "nbformat_minor": 0,
  "metadata": {
    "colab": {
      "name": "Doan_DS102.ipynb",
      "provenance": [],
      "collapsed_sections": []
    },
    "kernelspec": {
      "name": "python3",
      "display_name": "Python 3"
    }
  },
  "cells": [
    {
      "cell_type": "markdown",
      "metadata": {
        "id": "mcI_dfg2blzj",
        "colab_type": "text"
      },
      "source": [
        "\n",
        "\n",
        "---\n",
        "\n",
        " **#STEP 1:\n",
        "Read and statistic data**\n",
        "\n",
        "\n",
        "\n",
        "\n",
        "\n",
        "\n"
      ]
    },
    {
      "cell_type": "markdown",
      "metadata": {
        "id": "hSJ-yU_UbjOT",
        "colab_type": "text"
      },
      "source": [
        "*#Kết nối tới file data ở github*"
      ]
    },
    {
      "cell_type": "code",
      "metadata": {
        "id": "crjdU1elcbig",
        "colab_type": "code",
        "colab": {
          "base_uri": "https://localhost:8080/",
          "height": 34
        },
        "outputId": "a8bf1c00-0ed1-42a2-f2d1-be8904fd22e4"
      },
      "source": [
        "import pandas as pd\n",
        "import numpy as np\n",
        "!git clone 'https://github.com/Phuc-ph-2109/doands102.git'"
      ],
      "execution_count": 28,
      "outputs": [
        {
          "output_type": "stream",
          "text": [
            "fatal: destination path 'doands102' already exists and is not an empty directory.\n"
          ],
          "name": "stdout"
        }
      ]
    },
    {
      "cell_type": "markdown",
      "metadata": {
        "id": "S-Jpq1NcbpgJ",
        "colab_type": "text"
      },
      "source": [
        "*#Đọc dữ liệu và thống kê*\n",
        "\n"
      ]
    },
    {
      "cell_type": "code",
      "metadata": {
        "id": "Ntpa32mlbd9I",
        "colab_type": "code",
        "colab": {
          "base_uri": "https://localhost:8080/",
          "height": 312
        },
        "outputId": "f2866b94-f412-48f5-88b4-f2b159dc4fa8"
      },
      "source": [
        "import matplotlib.pyplot as plt\n",
        "from collections import Counter\n",
        "df = pd.read_csv(\"/content/doands102/vnexpress.csv\")\n",
        "print(Counter(np.array(df['label'])))\n",
        "label = [\"positive\", \"negative\", \"neutral\"]\n",
        "count_label = [555, 530, 555]\n",
        "plt.bar(label, count_label, color = \"green\")\n",
        "plt.title(\"COUNT_LABEL_full\")\n",
        "plt.xlabel(\"Label\")\n",
        "plt.ylabel(\"Number\")\n",
        "plt.show()"
      ],
      "execution_count": 29,
      "outputs": [
        {
          "output_type": "stream",
          "text": [
            "Counter({'neutral': 555, 'positive': 555, 'negative': 530})\n"
          ],
          "name": "stdout"
        },
        {
          "output_type": "display_data",
          "data": {
            "image/png": "[encoded data removed]",
            "text/plain": [
              "<Figure size 432x288 with 1 Axes>"
            ]
          },
          "metadata": {
            "tags": [],
            "needs_background": "light"
          }
        }
      ]
    },
    {
      "cell_type": "markdown",
      "metadata": {
        "id": "ukw3upqmc5h_",
        "colab_type": "text"
      },
      "source": [
        "*#Chia tập train test, và Visualize nhãn*"
      ]
    },
    {
      "cell_type": "code",
      "metadata": {
        "id": "H0jq60p4fvH4",
        "colab_type": "code",
        "colab": {
          "base_uri": "https://localhost:8080/",
          "height": 607
        },
        "outputId": "4c98142c-e5ba-43de-9010-030e45b023f9"
      },
      "source": [
        "from sklearn.model_selection import train_test_split\n",
        "X = df.iloc[:,0].values\n",
        "Y = df.iloc[:,1].values\n",
        "X_train, X_test, Y_train, Y_test = train_test_split(X, Y, train_size =0.8, random_state = 0, shuffle = True)\n",
        "print(Counter(np.array(Y_train)))\n",
        "\n",
        "count_label_train = [443, 429, 440]\n",
        "count_label_test = [112, 101, 112]\n",
        "plt.bar(label, count_label_train, color = \"pink\")\n",
        "plt.title(\"Count Label Train\")\n",
        "plt.xlabel(\"Label\")\n",
        "plt.ylabel(\"Number\")\n",
        "plt.show()\n",
        "\n",
        "print(Counter(np.array(Y_test)))\n",
        "plt.bar(label, count_label_test, color = \"blue\")\n",
        "plt.title(\"Count Label Test\")\n",
        "plt.xlabel(\"Label\")\n",
        "plt.ylabel(\"Number\")\n",
        "plt.show()"
      ],
      "execution_count": 30,
      "outputs": [
        {
          "output_type": "stream",
          "text": [
            "Counter({'positive': 443, 'neutral': 440, 'negative': 429})\n"
          ],
          "name": "stdout"
        },
        {
          "output_type": "display_data",
          "data": {
            "image/png": "[encoded data removed]",
            "text/plain": [
              "<Figure size 432x288 with 1 Axes>"
            ]
          },
          "metadata": {
            "tags": [],
            "needs_background": "light"
          }
        },
        {
          "output_type": "stream",
          "text": [
            "Counter({'neutral': 115, 'positive': 112, 'negative': 101})\n"
          ],
          "name": "stdout"
        },
        {
          "output_type": "display_data",
          "data": {
            "image/png": "[encoded data removed]",
            "text/plain": [
              "<Figure size 432x288 with 1 Axes>"
            ]
          },
          "metadata": {
            "tags": [],
            "needs_background": "light"
          }
        }
      ]
    },
    {
      "cell_type": "markdown",
      "metadata": {
        "id": "M6iDy7RbdFz7",
        "colab_type": "text"
      },
      "source": [
        "**#STEP 2: Preprocessing data**"
      ]
    },
    {
      "cell_type": "markdown",
      "metadata": {
        "id": "4kHbzrSxgnN6",
        "colab_type": "text"
      },
      "source": [
        "*# Xóa kí tự đặc biệt, tách từ theo ngôn ngữ Việt*"
      ]
    },
    {
      "cell_type": "code",
      "metadata": {
        "id": "XiKcPOCHdNyR",
        "colab_type": "code",
        "colab": {
          "base_uri": "https://localhost:8080/",
          "height": 187
        },
        "outputId": "e7e3845b-bc83-49ca-f39f-144eb5b93863"
      },
      "source": [
        "# cài đặt thư viện pyvi\n",
        "!pip install pyvi"
      ],
      "execution_count": 31,
      "outputs": [
        {
          "output_type": "stream",
          "text": [
            "Requirement already satisfied: pyvi in /usr/local/lib/python3.6/dist-packages (0.1)\n",
            "Requirement already satisfied: scikit-learn in /usr/local/lib/python3.6/dist-packages (from pyvi) (0.22.2.post1)\n",
            "Requirement already satisfied: sklearn-crfsuite in /usr/local/lib/python3.6/dist-packages (from pyvi) (0.3.6)\n",
            "Requirement already satisfied: numpy>=1.11.0 in /usr/local/lib/python3.6/dist-packages (from scikit-learn->pyvi) (1.18.5)\n",
            "Requirement already satisfied: scipy>=0.17.0 in /usr/local/lib/python3.6/dist-packages (from scikit-learn->pyvi) (1.4.1)\n",
            "Requirement already satisfied: joblib>=0.11 in /usr/local/lib/python3.6/dist-packages (from scikit-learn->pyvi) (0.15.1)\n",
            "Requirement already satisfied: six in /usr/local/lib/python3.6/dist-packages (from sklearn-crfsuite->pyvi) (1.12.0)\n",
            "Requirement already satisfied: python-crfsuite>=0.8.3 in /usr/local/lib/python3.6/dist-packages (from sklearn-crfsuite->pyvi) (0.9.7)\n",
            "Requirement already satisfied: tqdm>=2.0 in /usr/local/lib/python3.6/dist-packages (from sklearn-crfsuite->pyvi) (4.41.1)\n",
            "Requirement already satisfied: tabulate in /usr/local/lib/python3.6/dist-packages (from sklearn-crfsuite->pyvi) (0.8.7)\n"
          ],
          "name": "stdout"
        }
      ]
    },
    {
      "cell_type": "code",
      "metadata": {
        "id": "UQMiNHK6g8Cy",
        "colab_type": "code",
        "colab": {}
      },
      "source": [
        "from pyvi import ViTokenizer, ViPosTagger\n",
        "import string\n",
        "import itertools\n",
        "def process_text(text):\n",
        "    \n",
        "    #1 Xóa kí tự đặc biệt, chuyển về chữ thường\n",
        "    nopunc = [char for char in text if char not in string.punctuation]\n",
        "    nopunc = ''.join(nopunc)\n",
        "    nopunc = nopunc.lower()\n",
        "    nopunc = ''.join(ch for ch, _ in itertools.groupby(nopunc))\n",
        "    #2 Vitokennizer, chuyển về chữ thường\n",
        "    review = ViTokenizer.tokenize(nopunc)\n",
        "    return review"
      ],
      "execution_count": 32,
      "outputs": []
    },
    {
      "cell_type": "markdown",
      "metadata": {
        "id": "QcWPZdqChREQ",
        "colab_type": "text"
      },
      "source": [
        "*#Chuyển nhãn thành số*"
      ]
    },
    {
      "cell_type": "code",
      "metadata": {
        "id": "f65QC3UghKRU",
        "colab_type": "code",
        "colab": {
          "base_uri": "https://localhost:8080/",
          "height": 34
        },
        "outputId": "745e9a4a-c4f1-4c3d-9a8f-6291a16a9cca"
      },
      "source": [
        "from sklearn.preprocessing import LabelEncoder\n",
        "encoder = LabelEncoder()\n",
        "Y_train_n = encoder.fit_transform(Y_train)\n",
        "Y_test_n = encoder.fit_transform(Y_test)\n",
        "\n",
        "print(Y_train_n)"
      ],
      "execution_count": 33,
      "outputs": [
        {
          "output_type": "stream",
          "text": [
            "[1 2 1 ... 1 0 2]\n"
          ],
          "name": "stdout"
        }
      ]
    },
    {
      "cell_type": "markdown",
      "metadata": {
        "id": "3uGi5Z-ShkAv",
        "colab_type": "text"
      },
      "source": [
        "*#Tạo bags of Word, sử dụng TfidfTransformer để giảm những từ xuất hiện nhiều nhưng vô nghĩa*\n",
        "*Sử dụng pipeline kết hợp*"
      ]
    },
    {
      "cell_type": "code",
      "metadata": {
        "id": "i059gY-ehjGL",
        "colab_type": "code",
        "colab": {}
      },
      "source": [
        "from sklearn.feature_extraction.text import TfidfVectorizer, CountVectorizer,TfidfTransformer\n",
        "from sklearn.naive_bayes import MultinomialNB, BernoulliNB, GaussianNB\n",
        "from sklearn.svm import SVC\n",
        "from sklearn.pipeline import Pipeline\n",
        "\n",
        "# Model 1 xử dụng MultinomialNB của Naive Bayes\n",
        "model1 = Pipeline([('vect', CountVectorizer(analyzer=process_text)),('tfidf', TfidfTransformer()),('clf1', MultinomialNB()),])\n",
        "\n",
        "# Model 2 xử dụng Suport Vector Machine\n",
        "model2 = Pipeline([('vect', CountVectorizer(analyzer=process_text)),('tfidf', TfidfTransformer()),('clf2', SVC()),])\n"
      ],
      "execution_count": 34,
      "outputs": []
    },
    {
      "cell_type": "markdown",
      "metadata": {
        "id": "WJGo4NtodOft",
        "colab_type": "text"
      },
      "source": [
        "**#STEP 3: Training model & Save model**"
      ]
    },
    {
      "cell_type": "code",
      "metadata": {
        "id": "DHyKnm2UdW14",
        "colab_type": "code",
        "colab": {}
      },
      "source": [
        "import pickle\n",
        "# Model 1\n",
        "model1.fit(X_train,Y_train)\n",
        "filename = 'NaiveBayes_model.sav'\n",
        "pickle.dump(model1, open(filename, 'wb'))\n",
        "# Model 2\n",
        "model2.fit(X_train,Y_train)\n",
        "filename = 'SVM_model.sav'\n",
        "pickle.dump(model2, open(filename, 'wb'))"
      ],
      "execution_count": 35,
      "outputs": []
    },
    {
      "cell_type": "markdown",
      "metadata": {
        "id": "RuNLA_xMdXbe",
        "colab_type": "text"
      },
      "source": [
        "**#STEP 4: Confusion Matrix**"
      ]
    },
    {
      "cell_type": "code",
      "metadata": {
        "id": "lKNoBbbUdc5P",
        "colab_type": "code",
        "colab": {
          "base_uri": "https://localhost:8080/",
          "height": 545
        },
        "outputId": "02becbfd-97fc-4ca3-abf4-76be31c7e122"
      },
      "source": [
        "from sklearn.metrics import confusion_matrix\n",
        "import seaborn as sns\n",
        "#Test set model 1\n",
        "cm = confusion_matrix(Y_test, model1.predict(X_test))\n",
        "plt.title('Confusion matrix on Test set Model 1:')\n",
        "sns.heatmap(cm, annot = True, fmt = 'g', cmap = 'OrRd', annot_kws = {\"size\": 10})\n",
        "plt.savefig('confusionmatrix_test_Logistic.png')\n",
        "plt.show()\n",
        "\n",
        "#Test set model 2\n",
        "cm = confusion_matrix(Y_test, model2.predict(X_test))\n",
        "plt.title('Confusion matrix on Test set Model 2:')\n",
        "sns.heatmap(cm, annot = True, fmt = 'g', cmap = 'OrRd', annot_kws = {\"size\": 10})\n",
        "plt.savefig('confusionmatrix_test_SVM.png')\n",
        "plt.show()"
      ],
      "execution_count": 36,
      "outputs": [
        {
          "output_type": "display_data",
          "data": {
            "image/png": "[encoded data removed]",
            "text/plain": [
              "<Figure size 432x288 with 2 Axes>"
            ]
          },
          "metadata": {
            "tags": [],
            "needs_background": "light"
          }
        },
        {
          "output_type": "display_data",
          "data": {
            "image/png": "[encoded data removed]",
            "text/plain": [
              "<Figure size 432x288 with 2 Axes>"
            ]
          },
          "metadata": {
            "tags": [],
            "needs_background": "light"
          }
        }
      ]
    },
    {
      "cell_type": "markdown",
      "metadata": {
        "id": "9SVwV2HtddLx",
        "colab_type": "text"
      },
      "source": [
        "**#STEP 5: Review the model**"
      ]
    },
    {
      "cell_type": "code",
      "metadata": {
        "id": "L53-zk4YdqGp",
        "colab_type": "code",
        "colab": {
          "base_uri": "https://localhost:8080/",
          "height": 187
        },
        "outputId": "1e13859b-f0b1-4433-add2-d0e4a4b6472a"
      },
      "source": [
        "from sklearn.metrics import classification_report\n",
        "#Model 1\n",
        "print(classification_report(Y_test, model1.predict(X_test)))"
      ],
      "execution_count": 37,
      "outputs": [
        {
          "output_type": "stream",
          "text": [
            "              precision    recall  f1-score   support\n",
            "\n",
            "    negative       0.54      0.52      0.53       101\n",
            "     neutral       0.45      0.47      0.46       115\n",
            "    positive       0.56      0.55      0.56       112\n",
            "\n",
            "    accuracy                           0.52       328\n",
            "   macro avg       0.52      0.52      0.52       328\n",
            "weighted avg       0.52      0.52      0.52       328\n",
            "\n"
          ],
          "name": "stdout"
        }
      ]
    },
    {
      "cell_type": "code",
      "metadata": {
        "id": "OOdMMXk_lwKZ",
        "colab_type": "code",
        "colab": {
          "base_uri": "https://localhost:8080/",
          "height": 187
        },
        "outputId": "a49a8798-8577-41e9-85e0-b439d96058bb"
      },
      "source": [
        "#Model 2\n",
        "print(classification_report(Y_test, model2.predict(X_test)))"
      ],
      "execution_count": 38,
      "outputs": [
        {
          "output_type": "stream",
          "text": [
            "              precision    recall  f1-score   support\n",
            "\n",
            "    negative       0.49      0.49      0.49       101\n",
            "     neutral       0.46      0.54      0.50       115\n",
            "    positive       0.62      0.52      0.56       112\n",
            "\n",
            "    accuracy                           0.52       328\n",
            "   macro avg       0.52      0.51      0.52       328\n",
            "weighted avg       0.52      0.52      0.52       328\n",
            "\n"
          ],
          "name": "stdout"
        }
      ]
    },
    {
      "cell_type": "code",
      "metadata": {
        "id": "4mG3Avsul1pf",
        "colab_type": "code",
        "colab": {
          "base_uri": "https://localhost:8080/",
          "height": 391
        },
        "outputId": "1d6c99b9-cc19-4e04-c338-ad9aaf1613cb"
      },
      "source": [
        "#Compare model 1\n",
        "df_compare = pd.DataFrame()\n",
        "df_compare['cmt'] = X_test\n",
        "df_compare['label'] = Y_test\n",
        "df_compare['Predict label'] = model1.predict(X_test)\n",
        "print('Compare on 20 line in test set:')\n",
        "print(df_compare.head(20))\n",
        "\n",
        "df_compare.to_excel('predict_NaiveBayes.xlsx')"
      ],
      "execution_count": 39,
      "outputs": [
        {
          "output_type": "stream",
          "text": [
            "Compare on 20 line in test set:\n",
            "                                                  cmt     label Predict label\n",
            "0   Thất vọng quá. Tưởng thiết kế vuông vức mạnh m...  negative      negative\n",
            "1   Nhìn con s20 là đủ biết ss quay lại con đường ...  negative      negative\n",
            "2   đi xe vinfast,điện thoại B phone,ăn cơm việt,n...  positive      positive\n",
            "3   Em Huawei P40 Pro ngon và chất quá. Mình sẽ xú...  positive      positive\n",
            "4                     Vẫn còn cái tai thỏ khuyết tật.  negative      negative\n",
            "5                   Quá bình thường, nhìn như đồ chơi  negative      negative\n",
            "6   Mấy con điện thoại giá bình dân dùng đã ok phế...  positive      negative\n",
            "7   Sao không giữ thiết kế bo viền nam tính như SE...  negative      negative\n",
            "8   Như vậy giống như bản nâng cấp cấu hình của IP...   neutral      positive\n",
            "9                               Giá này thì chết nữa.  negative       neutral\n",
            "10  Điện thoại này quá xuất sắc, tôi cũng vừa mua ...  positive      negative\n",
            "11  Iphone 6s plus tôi mua từ nhiều năm trước tới ...  positive      positive\n",
            "12          APPLE vẫn đẳng cấp hơn, đơn giản mượt mà.  positive      positive\n",
            "13  Nếu bản vá đã có từ 07/2019 thì chúng ta nên t...   neutral       neutral\n",
            "14  Chúc mừng những ifan sẽ mua Pro Max, vẫn sẽ ti...  positive      positive\n",
            "15  Chính vì cái camera lật và ảo giá nên A8 mới c...  negative      negative\n",
            "16  rất tự hào, đây sẽ là nền móng cho sự phát tri...  positive      positive\n",
            "17  VN mình nay đã làm được smart phone sao lại ph...  positive      negative\n",
            "18  Cầu mong cho nó được cục pin trâu cỡ con iphon...  positive      positive\n",
            "19  Ultra S20 đang giảm sâu, cơ hội cho những ai t...  positive       neutral\n"
          ],
          "name": "stdout"
        }
      ]
    },
    {
      "cell_type": "code",
      "metadata": {
        "id": "K8oMTVgtl6OJ",
        "colab_type": "code",
        "colab": {
          "base_uri": "https://localhost:8080/",
          "height": 391
        },
        "outputId": "747f53a0-0dc2-4383-a16a-6dfc08f69ea3"
      },
      "source": [
        "#Compare model 2\n",
        "df_compare = pd.DataFrame()\n",
        "df_compare['cmt'] = X_test\n",
        "df_compare['label'] = Y_test\n",
        "df_compare['Predict label'] = model2.predict(X_test)\n",
        "print('Compare on 20 line in test set:')\n",
        "print(df_compare.head(20))\n",
        "\n",
        "df_compare.to_excel('predict_SVM.xlsx')"
      ],
      "execution_count": 40,
      "outputs": [
        {
          "output_type": "stream",
          "text": [
            "Compare on 20 line in test set:\n",
            "                                                  cmt     label Predict label\n",
            "0   Thất vọng quá. Tưởng thiết kế vuông vức mạnh m...  negative      negative\n",
            "1   Nhìn con s20 là đủ biết ss quay lại con đường ...  negative      negative\n",
            "2   đi xe vinfast,điện thoại B phone,ăn cơm việt,n...  positive      positive\n",
            "3   Em Huawei P40 Pro ngon và chất quá. Mình sẽ xú...  positive      positive\n",
            "4                     Vẫn còn cái tai thỏ khuyết tật.  negative      negative\n",
            "5                   Quá bình thường, nhìn như đồ chơi  negative      negative\n",
            "6   Mấy con điện thoại giá bình dân dùng đã ok phế...  positive      negative\n",
            "7   Sao không giữ thiết kế bo viền nam tính như SE...  negative      negative\n",
            "8   Như vậy giống như bản nâng cấp cấu hình của IP...   neutral       neutral\n",
            "9                               Giá này thì chết nữa.  negative       neutral\n",
            "10  Điện thoại này quá xuất sắc, tôi cũng vừa mua ...  positive      negative\n",
            "11  Iphone 6s plus tôi mua từ nhiều năm trước tới ...  positive      positive\n",
            "12          APPLE vẫn đẳng cấp hơn, đơn giản mượt mà.  positive      positive\n",
            "13  Nếu bản vá đã có từ 07/2019 thì chúng ta nên t...   neutral       neutral\n",
            "14  Chúc mừng những ifan sẽ mua Pro Max, vẫn sẽ ti...  positive      positive\n",
            "15  Chính vì cái camera lật và ảo giá nên A8 mới c...  negative      negative\n",
            "16  rất tự hào, đây sẽ là nền móng cho sự phát tri...  positive      positive\n",
            "17  VN mình nay đã làm được smart phone sao lại ph...  positive       neutral\n",
            "18  Cầu mong cho nó được cục pin trâu cỡ con iphon...  positive      positive\n",
            "19  Ultra S20 đang giảm sâu, cơ hội cho những ai t...  positive       neutral\n"
          ],
          "name": "stdout"
        }
      ]
    }
  ]
}